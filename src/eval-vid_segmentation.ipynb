{
 "cells": [
  {
   "cell_type": "code",
   "execution_count": 4,
   "id": "70d5ece9",
   "metadata": {
    "pycharm": {
     "name": "#%%\n"
    }
   },
   "outputs": [],
   "source": [
    "import logging\n",
    "logging.disable(logging.CRITICAL)\n",
    "\n",
    "import os\n",
    "import torch\n",
    "from pathlib import Path\n",
    "from types import SimpleNamespace\n",
    "from detectron2.checkpoint import DetectionCheckpointer\n",
    "\n",
    "import config\n",
    "import utils as ut\n",
    "from eval_utils import eval_unsupmf\n",
    "from mask_former_trainer import setup, Trainer\n",
    "from typing import Dict, Any\n",
    "class OurCheckpoint(DetectionCheckpointer):\n",
    "    def _load_file(self, f: str) -> Dict[str, Any]:\n",
    "        \"\"\"\n",
    "        Load a checkpoint file. Can be overwritten by subclasses to support\n",
    "        different formats.\n",
    "\n",
    "        Args:\n",
    "            f (str): a locally mounted file path.\n",
    "        Returns:\n",
    "            dict: with keys \"model\" and optionally others that are saved by\n",
    "                the checkpointer dict[\"model\"] must be a dict which maps strings\n",
    "                to torch.Tensor or numpy arrays.\n",
    "        \"\"\"\n",
    "        return torch.load(f, weights_only=False,map_location=torch.device(\"cpu\"))\n",
    "\n",
    "torch.cuda.set_device('cuda:0')\n",
    "\n",
    "def load_model_cfg(ckpt_path, dataset=None):\n",
    "    experiment = Path('../outputs/') / ckpt_path\n",
    "    \n",
    "    # args = SimpleNamespace(config_file=str(experiment / 'config.yaml'), opts=[], wandb_sweep_mode=False, resume_path=str(experiment / 'checkpoints/checkpoint_best.pth'), eval_only=True)  # better way\n",
    "    args = SimpleNamespace(config_file='configs/maskformer/maskformer_R50_bs16_160k_dino.yaml', opts=[\"GWM.DATASET\", dataset], wandb_sweep_mode=False, resume_path=str(experiment / 'checkpoints/checkpoint_best.pth'), eval_only=True)\n",
    "    cfg = setup(args)\n",
    "    random_state = ut.random_state.PytorchRNGState(seed=cfg.SEED).to(torch.device(cfg.MODEL.DEVICE))\n",
    "\n",
    "    model = Trainer.build_model(cfg)\n",
    "    checkpointer = OurCheckpoint(model,\n",
    "                                         random_state=random_state,\n",
    "                                         save_dir=os.path.join(cfg.OUTPUT_DIR, '../..', 'checkpoints'))\n",
    "    \n",
    "    checkpoint_path = str(experiment / 'checkpoints/checkpoint_best.pth')\n",
    "    checkpoint = checkpointer.resume_or_load(checkpoint_path, resume=False)\n",
    "    model.eval()\n",
    "    \n",
    "    return model, cfg\n"
   ]
  },
  {
   "cell_type": "code",
   "execution_count": null,
   "id": "1ca5134c",
   "metadata": {
    "pycharm": {
     "name": "#%%\n"
    },
    "scrolled": false
   },
   "outputs": [
    {
     "name": "stderr",
     "output_type": "stream",
     "text": [
      "Using cache found in /home/lzq/.cache/torch/hub/facebookresearch_dino_main\n"
     ]
    },
    {
     "name": "stdout",
     "output_type": "stream",
     "text": [
      "path ../outputs/exp/20250209_073351/checkpoints/checkpoint_best.pth\n",
      "loading checkpoint\n",
      "loading incompatible keys\n"
     ]
    },
    {
     "name": "stderr",
     "output_type": "stream",
     "text": [
      "Using cache found in /home/lzq/.cache/torch/hub/facebookresearch_dino_main\n",
      "100%|██████████| 1356/1356 [04:56<00:00,  4.58it/s]"
     ]
    },
    {
     "name": "stdout",
     "output_type": "stream",
     "text": [
      "DAVIS: 79.21\n"
     ]
    },
    {
     "name": "stderr",
     "output_type": "stream",
     "text": [
      "\n"
     ]
    }
   ],
   "source": [
    "\n",
    "model, cfg = load_model_cfg('exp/20250209_073351', \"DAVIS\")\n",
    "_, val_loader = config.loaders(cfg)\n",
    "    \n",
    "iou = eval_unsupmf(cfg, val_loader, model, criterion=None)\n",
    "print(f\"DAVIS: {iou:.2f}\")"
   ]
  },
  {
   "cell_type": "code",
   "execution_count": 3,
   "id": "cb9ebb79",
   "metadata": {
    "pycharm": {
     "name": "#%%\n"
    },
    "scrolled": true
   },
   "outputs": [
    {
     "name": "stderr",
     "output_type": "stream",
     "text": [
      "Using cache found in /users/subha/.cache/torch/hub/facebookresearch_dino_main\n",
      "Using cache found in /users/subha/.cache/torch/hub/facebookresearch_dino_main\n",
      "100%|█████████████████████████████████████████████████████████████████████████████████████████████████████████████████████████████████████████████████████████████████████████████| 1052/1052 [04:36<00:00,  3.80it/s]"
     ]
    },
    {
     "name": "stdout",
     "output_type": "stream",
     "text": [
      "STv2: 78.31\n"
     ]
    },
    {
     "name": "stderr",
     "output_type": "stream",
     "text": [
      "\n"
     ]
    }
   ],
   "source": [
    "model, cfg = load_model_cfg(\"../checkpoints/STv2\", \"STv2\")\n",
    "_, val_loader = config.loaders(cfg)\n",
    "    \n",
    "iou = eval_unsupmf(cfg, val_loader, model, criterion=None)\n",
    "print(f\"STv2: {iou:.2f}\")"
   ]
  },
  {
   "cell_type": "code",
   "execution_count": 4,
   "id": "a86421a8",
   "metadata": {
    "pycharm": {
     "name": "#%%\n"
    },
    "scrolled": true
   },
   "outputs": [
    {
     "name": "stderr",
     "output_type": "stream",
     "text": [
      "Using cache found in /users/subha/.cache/torch/hub/facebookresearch_dino_main\n",
      "Using cache found in /users/subha/.cache/torch/hub/facebookresearch_dino_main\n",
      "100%|███████████████████████████████████████████████████████████████████████████████████████████████████████████████████████████████████████████████████████████████████████████████| 338/338 [01:30<00:00,  3.75it/s]"
     ]
    },
    {
     "name": "stdout",
     "output_type": "stream",
     "text": [
      "FBMS: 77.53\n"
     ]
    },
    {
     "name": "stderr",
     "output_type": "stream",
     "text": [
      "\n"
     ]
    }
   ],
   "source": [
    "model, cfg = load_model_cfg(\"../checkpoints/FBMS\", \"FBMS\")\n",
    "_, val_loader = config.loaders(cfg)\n",
    "    \n",
    "iou = eval_unsupmf(cfg, val_loader, model, criterion=None)\n",
    "print(f\"FBMS: {iou:.2f}\")"
   ]
  },
  {
   "cell_type": "code",
   "execution_count": null,
   "id": "fe9c4aa9",
   "metadata": {},
   "outputs": [],
   "source": []
  }
 ],
 "metadata": {
  "kernelspec": {
   "display_name": ".venv",
   "language": "python",
   "name": "python3"
  },
  "language_info": {
   "codemirror_mode": {
    "name": "ipython",
    "version": 3
   },
   "file_extension": ".py",
   "mimetype": "text/x-python",
   "name": "python",
   "nbconvert_exporter": "python",
   "pygments_lexer": "ipython3",
   "version": "3.12.3"
  }
 },
 "nbformat": 4,
 "nbformat_minor": 5
}
